{
  "nbformat": 4,
  "nbformat_minor": 0,
  "metadata": {
    "colab": {
      "provenance": [],
      "collapsed_sections": []
    },
    "kernelspec": {
      "name": "python3",
      "display_name": "Python 3"
    },
    "language_info": {
      "name": "python"
    }
  },
  "cells": [
    {
      "cell_type": "markdown",
      "source": [
        "Import Librabry"
      ],
      "metadata": {
        "id": "OqLhUwk-ysk_"
      }
    },
    {
      "cell_type": "code",
      "execution_count": 6,
      "metadata": {
        "id": "aYErb_0-spUo"
      },
      "outputs": [],
      "source": [
        "#I Putu Yoga Tunas Sugitha\n",
        "#205150600111033\n",
        "#Data Mining - C\n",
        "#TP02\n",
        "\n",
        "#datasource link : https://www.kaggle.com/datasets/whenamancodes/students-performance-in-exams\n",
        "\n",
        "#Import python library \n",
        "import pandas as pd\n",
        "import numpy as np\n",
        "import matplotlib.pyplot as plt\n",
        "from sklearn.preprocessing import MinMaxScaler, StandardScaler"
      ]
    },
    {
      "cell_type": "code",
      "source": [
        "url = 'https://raw.githubusercontent.com/yoga-sugitha/DataMining/main/exams.csv'\n",
        "df = pd.read_csv(url)"
      ],
      "metadata": {
        "id": "ndZ7wIIFVxoX"
      },
      "execution_count": 7,
      "outputs": []
    },
    {
      "cell_type": "code",
      "source": [
        "## Memeriksa apakah ada value null pada\n",
        "df.info()\n",
        "df.isnull()"
      ],
      "metadata": {
        "colab": {
          "base_uri": "https://localhost:8080/",
          "height": 684
        },
        "id": "S9ugAawtV83U",
        "outputId": "05032ec4-4f26-4c44-d7da-f2673c9a31c8"
      },
      "execution_count": 8,
      "outputs": [
        {
          "output_type": "stream",
          "name": "stdout",
          "text": [
            "<class 'pandas.core.frame.DataFrame'>\n",
            "RangeIndex: 1000 entries, 0 to 999\n",
            "Data columns (total 8 columns):\n",
            " #   Column                       Non-Null Count  Dtype \n",
            "---  ------                       --------------  ----- \n",
            " 0   gender                       1000 non-null   object\n",
            " 1   race/ethnicity               1000 non-null   object\n",
            " 2   parental level of education  1000 non-null   object\n",
            " 3   lunch                        1000 non-null   object\n",
            " 4   test preparation course      1000 non-null   object\n",
            " 5   math score                   1000 non-null   int64 \n",
            " 6   reading score                1000 non-null   int64 \n",
            " 7   writing score                1000 non-null   int64 \n",
            "dtypes: int64(3), object(5)\n",
            "memory usage: 62.6+ KB\n"
          ]
        },
        {
          "output_type": "execute_result",
          "data": {
            "text/plain": [
              "     gender  race/ethnicity  parental level of education  lunch  \\\n",
              "0     False           False                        False  False   \n",
              "1     False           False                        False  False   \n",
              "2     False           False                        False  False   \n",
              "3     False           False                        False  False   \n",
              "4     False           False                        False  False   \n",
              "..      ...             ...                          ...    ...   \n",
              "995   False           False                        False  False   \n",
              "996   False           False                        False  False   \n",
              "997   False           False                        False  False   \n",
              "998   False           False                        False  False   \n",
              "999   False           False                        False  False   \n",
              "\n",
              "     test preparation course  math score  reading score  writing score  \n",
              "0                      False       False          False          False  \n",
              "1                      False       False          False          False  \n",
              "2                      False       False          False          False  \n",
              "3                      False       False          False          False  \n",
              "4                      False       False          False          False  \n",
              "..                       ...         ...            ...            ...  \n",
              "995                    False       False          False          False  \n",
              "996                    False       False          False          False  \n",
              "997                    False       False          False          False  \n",
              "998                    False       False          False          False  \n",
              "999                    False       False          False          False  \n",
              "\n",
              "[1000 rows x 8 columns]"
            ],
            "text/html": [
              "\n",
              "  <div id=\"df-99a5222a-8eae-4215-958a-38cf7609527c\">\n",
              "    <div class=\"colab-df-container\">\n",
              "      <div>\n",
              "<style scoped>\n",
              "    .dataframe tbody tr th:only-of-type {\n",
              "        vertical-align: middle;\n",
              "    }\n",
              "\n",
              "    .dataframe tbody tr th {\n",
              "        vertical-align: top;\n",
              "    }\n",
              "\n",
              "    .dataframe thead th {\n",
              "        text-align: right;\n",
              "    }\n",
              "</style>\n",
              "<table border=\"1\" class=\"dataframe\">\n",
              "  <thead>\n",
              "    <tr style=\"text-align: right;\">\n",
              "      <th></th>\n",
              "      <th>gender</th>\n",
              "      <th>race/ethnicity</th>\n",
              "      <th>parental level of education</th>\n",
              "      <th>lunch</th>\n",
              "      <th>test preparation course</th>\n",
              "      <th>math score</th>\n",
              "      <th>reading score</th>\n",
              "      <th>writing score</th>\n",
              "    </tr>\n",
              "  </thead>\n",
              "  <tbody>\n",
              "    <tr>\n",
              "      <th>0</th>\n",
              "      <td>False</td>\n",
              "      <td>False</td>\n",
              "      <td>False</td>\n",
              "      <td>False</td>\n",
              "      <td>False</td>\n",
              "      <td>False</td>\n",
              "      <td>False</td>\n",
              "      <td>False</td>\n",
              "    </tr>\n",
              "    <tr>\n",
              "      <th>1</th>\n",
              "      <td>False</td>\n",
              "      <td>False</td>\n",
              "      <td>False</td>\n",
              "      <td>False</td>\n",
              "      <td>False</td>\n",
              "      <td>False</td>\n",
              "      <td>False</td>\n",
              "      <td>False</td>\n",
              "    </tr>\n",
              "    <tr>\n",
              "      <th>2</th>\n",
              "      <td>False</td>\n",
              "      <td>False</td>\n",
              "      <td>False</td>\n",
              "      <td>False</td>\n",
              "      <td>False</td>\n",
              "      <td>False</td>\n",
              "      <td>False</td>\n",
              "      <td>False</td>\n",
              "    </tr>\n",
              "    <tr>\n",
              "      <th>3</th>\n",
              "      <td>False</td>\n",
              "      <td>False</td>\n",
              "      <td>False</td>\n",
              "      <td>False</td>\n",
              "      <td>False</td>\n",
              "      <td>False</td>\n",
              "      <td>False</td>\n",
              "      <td>False</td>\n",
              "    </tr>\n",
              "    <tr>\n",
              "      <th>4</th>\n",
              "      <td>False</td>\n",
              "      <td>False</td>\n",
              "      <td>False</td>\n",
              "      <td>False</td>\n",
              "      <td>False</td>\n",
              "      <td>False</td>\n",
              "      <td>False</td>\n",
              "      <td>False</td>\n",
              "    </tr>\n",
              "    <tr>\n",
              "      <th>...</th>\n",
              "      <td>...</td>\n",
              "      <td>...</td>\n",
              "      <td>...</td>\n",
              "      <td>...</td>\n",
              "      <td>...</td>\n",
              "      <td>...</td>\n",
              "      <td>...</td>\n",
              "      <td>...</td>\n",
              "    </tr>\n",
              "    <tr>\n",
              "      <th>995</th>\n",
              "      <td>False</td>\n",
              "      <td>False</td>\n",
              "      <td>False</td>\n",
              "      <td>False</td>\n",
              "      <td>False</td>\n",
              "      <td>False</td>\n",
              "      <td>False</td>\n",
              "      <td>False</td>\n",
              "    </tr>\n",
              "    <tr>\n",
              "      <th>996</th>\n",
              "      <td>False</td>\n",
              "      <td>False</td>\n",
              "      <td>False</td>\n",
              "      <td>False</td>\n",
              "      <td>False</td>\n",
              "      <td>False</td>\n",
              "      <td>False</td>\n",
              "      <td>False</td>\n",
              "    </tr>\n",
              "    <tr>\n",
              "      <th>997</th>\n",
              "      <td>False</td>\n",
              "      <td>False</td>\n",
              "      <td>False</td>\n",
              "      <td>False</td>\n",
              "      <td>False</td>\n",
              "      <td>False</td>\n",
              "      <td>False</td>\n",
              "      <td>False</td>\n",
              "    </tr>\n",
              "    <tr>\n",
              "      <th>998</th>\n",
              "      <td>False</td>\n",
              "      <td>False</td>\n",
              "      <td>False</td>\n",
              "      <td>False</td>\n",
              "      <td>False</td>\n",
              "      <td>False</td>\n",
              "      <td>False</td>\n",
              "      <td>False</td>\n",
              "    </tr>\n",
              "    <tr>\n",
              "      <th>999</th>\n",
              "      <td>False</td>\n",
              "      <td>False</td>\n",
              "      <td>False</td>\n",
              "      <td>False</td>\n",
              "      <td>False</td>\n",
              "      <td>False</td>\n",
              "      <td>False</td>\n",
              "      <td>False</td>\n",
              "    </tr>\n",
              "  </tbody>\n",
              "</table>\n",
              "<p>1000 rows × 8 columns</p>\n",
              "</div>\n",
              "      <button class=\"colab-df-convert\" onclick=\"convertToInteractive('df-99a5222a-8eae-4215-958a-38cf7609527c')\"\n",
              "              title=\"Convert this dataframe to an interactive table.\"\n",
              "              style=\"display:none;\">\n",
              "        \n",
              "  <svg xmlns=\"http://www.w3.org/2000/svg\" height=\"24px\"viewBox=\"0 0 24 24\"\n",
              "       width=\"24px\">\n",
              "    <path d=\"M0 0h24v24H0V0z\" fill=\"none\"/>\n",
              "    <path d=\"M18.56 5.44l.94 2.06.94-2.06 2.06-.94-2.06-.94-.94-2.06-.94 2.06-2.06.94zm-11 1L8.5 8.5l.94-2.06 2.06-.94-2.06-.94L8.5 2.5l-.94 2.06-2.06.94zm10 10l.94 2.06.94-2.06 2.06-.94-2.06-.94-.94-2.06-.94 2.06-2.06.94z\"/><path d=\"M17.41 7.96l-1.37-1.37c-.4-.4-.92-.59-1.43-.59-.52 0-1.04.2-1.43.59L10.3 9.45l-7.72 7.72c-.78.78-.78 2.05 0 2.83L4 21.41c.39.39.9.59 1.41.59.51 0 1.02-.2 1.41-.59l7.78-7.78 2.81-2.81c.8-.78.8-2.07 0-2.86zM5.41 20L4 18.59l7.72-7.72 1.47 1.35L5.41 20z\"/>\n",
              "  </svg>\n",
              "      </button>\n",
              "      \n",
              "  <style>\n",
              "    .colab-df-container {\n",
              "      display:flex;\n",
              "      flex-wrap:wrap;\n",
              "      gap: 12px;\n",
              "    }\n",
              "\n",
              "    .colab-df-convert {\n",
              "      background-color: #E8F0FE;\n",
              "      border: none;\n",
              "      border-radius: 50%;\n",
              "      cursor: pointer;\n",
              "      display: none;\n",
              "      fill: #1967D2;\n",
              "      height: 32px;\n",
              "      padding: 0 0 0 0;\n",
              "      width: 32px;\n",
              "    }\n",
              "\n",
              "    .colab-df-convert:hover {\n",
              "      background-color: #E2EBFA;\n",
              "      box-shadow: 0px 1px 2px rgba(60, 64, 67, 0.3), 0px 1px 3px 1px rgba(60, 64, 67, 0.15);\n",
              "      fill: #174EA6;\n",
              "    }\n",
              "\n",
              "    [theme=dark] .colab-df-convert {\n",
              "      background-color: #3B4455;\n",
              "      fill: #D2E3FC;\n",
              "    }\n",
              "\n",
              "    [theme=dark] .colab-df-convert:hover {\n",
              "      background-color: #434B5C;\n",
              "      box-shadow: 0px 1px 3px 1px rgba(0, 0, 0, 0.15);\n",
              "      filter: drop-shadow(0px 1px 2px rgba(0, 0, 0, 0.3));\n",
              "      fill: #FFFFFF;\n",
              "    }\n",
              "  </style>\n",
              "\n",
              "      <script>\n",
              "        const buttonEl =\n",
              "          document.querySelector('#df-99a5222a-8eae-4215-958a-38cf7609527c button.colab-df-convert');\n",
              "        buttonEl.style.display =\n",
              "          google.colab.kernel.accessAllowed ? 'block' : 'none';\n",
              "\n",
              "        async function convertToInteractive(key) {\n",
              "          const element = document.querySelector('#df-99a5222a-8eae-4215-958a-38cf7609527c');\n",
              "          const dataTable =\n",
              "            await google.colab.kernel.invokeFunction('convertToInteractive',\n",
              "                                                     [key], {});\n",
              "          if (!dataTable) return;\n",
              "\n",
              "          const docLinkHtml = 'Like what you see? Visit the ' +\n",
              "            '<a target=\"_blank\" href=https://colab.research.google.com/notebooks/data_table.ipynb>data table notebook</a>'\n",
              "            + ' to learn more about interactive tables.';\n",
              "          element.innerHTML = '';\n",
              "          dataTable['output_type'] = 'display_data';\n",
              "          await google.colab.output.renderOutput(dataTable, element);\n",
              "          const docLink = document.createElement('div');\n",
              "          docLink.innerHTML = docLinkHtml;\n",
              "          element.appendChild(docLink);\n",
              "        }\n",
              "      </script>\n",
              "    </div>\n",
              "  </div>\n",
              "  "
            ]
          },
          "metadata": {},
          "execution_count": 8
        }
      ]
    },
    {
      "cell_type": "code",
      "source": [
        "##setelah di cek, tidak ada data null\n",
        "##dilanjutkan dengan memeriksa outlier\n",
        "##sebelum itu untuk mempermudah, akan digunakan dataset untuk column dengan data type\n",
        "##integer atau numeric saja, selain itu akan di hapus\n",
        "df2 = df.drop(['gender', 'race/ethnicity', 'parental level of education', 'lunch', 'test preparation course'], axis=1)"
      ],
      "metadata": {
        "id": "0dRFqvwHWIiu"
      },
      "execution_count": 9,
      "outputs": []
    },
    {
      "cell_type": "code",
      "source": [
        "print(df)\n",
        "print(df2)"
      ],
      "metadata": {
        "colab": {
          "base_uri": "https://localhost:8080/"
        },
        "id": "HfrMQpMMWkPv",
        "outputId": "4b12d645-f6b8-4fbb-83ae-033022a1c95c"
      },
      "execution_count": 10,
      "outputs": [
        {
          "output_type": "stream",
          "name": "stdout",
          "text": [
            "     gender race/ethnicity parental level of education         lunch  \\\n",
            "0      male        group A                 high school      standard   \n",
            "1    female        group D            some high school  free/reduced   \n",
            "2      male        group E                some college  free/reduced   \n",
            "3      male        group B                 high school      standard   \n",
            "4      male        group E          associate's degree      standard   \n",
            "..      ...            ...                         ...           ...   \n",
            "995    male        group C                 high school      standard   \n",
            "996    male        group D          associate's degree  free/reduced   \n",
            "997  female        group C            some high school  free/reduced   \n",
            "998  female        group C                some college      standard   \n",
            "999    male        group A                some college      standard   \n",
            "\n",
            "    test preparation course  math score  reading score  writing score  \n",
            "0                 completed          67             67             63  \n",
            "1                      none          40             59             55  \n",
            "2                      none          59             60             50  \n",
            "3                      none          77             78             68  \n",
            "4                 completed          78             73             68  \n",
            "..                      ...         ...            ...            ...  \n",
            "995                    none          73             70             65  \n",
            "996               completed          85             91             92  \n",
            "997                    none          32             35             41  \n",
            "998                    none          73             74             82  \n",
            "999               completed          65             60             62  \n",
            "\n",
            "[1000 rows x 8 columns]\n",
            "     math score  reading score  writing score\n",
            "0            67             67             63\n",
            "1            40             59             55\n",
            "2            59             60             50\n",
            "3            77             78             68\n",
            "4            78             73             68\n",
            "..          ...            ...            ...\n",
            "995          73             70             65\n",
            "996          85             91             92\n",
            "997          32             35             41\n",
            "998          73             74             82\n",
            "999          65             60             62\n",
            "\n",
            "[1000 rows x 3 columns]\n"
          ]
        }
      ]
    },
    {
      "cell_type": "code",
      "source": [
        "##sekarang ada 2 dataset yaitu dataset yg utuh df dan yg sudah di remove non int columnya yaitu df2\n",
        "dfplt = df2.boxplot(column = ['math score', 'reading score', 'writing score'])\n",
        "dfplt.plot()\n",
        "plt.show()"
      ],
      "metadata": {
        "colab": {
          "base_uri": "https://localhost:8080/",
          "height": 265
        },
        "id": "hRLcSMnRWxJz",
        "outputId": "9f4c0eee-c1ed-44f7-bf11-43c8f5d5b614"
      },
      "execution_count": 11,
      "outputs": [
        {
          "output_type": "display_data",
          "data": {
            "text/plain": [
              "<Figure size 432x288 with 1 Axes>"
            ],
            "image/png": "[encoded data removed]"
          },
          "metadata": {
            "needs_background": "light"
          }
        }
      ]
    },
    {
      "cell_type": "code",
      "source": [
        "## dari ketiga dataset, didapatkan ada data outlier,\n",
        "## selanjutnya kita akan memeriksa, data mana saja yg outlier\n",
        "dfmath = df2['math score']\n",
        "dfread = df2['reading score']\n",
        "dfwrite = df2['writing score']"
      ],
      "metadata": {
        "id": "sv5fYIZAYYdx"
      },
      "execution_count": 12,
      "outputs": []
    },
    {
      "cell_type": "code",
      "source": [
        "#Q1 dan Q3\n",
        "#math score\n",
        "Mq1,Mq3 = np.percentile(dfmath,[25,75])\n",
        "print('Math', Mq1, '&', Mq3)\n",
        "#reading score\n",
        "Rq1,Rq3 = np.percentile(dfread,[25,75])\n",
        "print('Reading', Rq1, '&', Rq3)\n",
        "#Writing\n",
        "Wq1,Wq3 = np.percentile(dfwrite,[25,75])\n",
        "print('Writing', Wq1, '&', Wq3)"
      ],
      "metadata": {
        "colab": {
          "base_uri": "https://localhost:8080/"
        },
        "id": "1T8L42udZENL",
        "outputId": "c0479036-e789-433e-8c4a-157544357967"
      },
      "execution_count": 13,
      "outputs": [
        {
          "output_type": "stream",
          "name": "stdout",
          "text": [
            "Math 56.0 & 77.0\n",
            "Reading 60.0 & 79.0\n",
            "Writing 58.0 & 79.0\n"
          ]
        }
      ]
    },
    {
      "cell_type": "code",
      "source": [
        "#interquartile\n",
        "#math\n",
        "iqrMath = Mq3 - Mq1\n",
        "mBB = Mq1 - (1.5 * iqrMath)\n",
        "mBA = Mq3 + (1.5 * iqrMath)\n",
        "print('Math', '\\nBatas bawah :', mBB, '\\nBatas atas :', mBA)\n",
        "#reading\n",
        "iqrRead = Rq3 - Rq1\n",
        "rBB = Rq1 - (1.5 * iqrRead)\n",
        "rBA = Rq3 + (1.5 * iqrRead)\n",
        "print('Reading', '\\nBatas bawah :', rBB, '\\nBatas atas :', rBA)\n",
        "#writing\n",
        "iqrWrite = Wq3 - Wq1\n",
        "wBB = Wq1 - (1.5 * iqrWrite)\n",
        "wBA = Wq3 + (1.5 * iqrWrite)\n",
        "print('Writing', '\\nBatas bawah :', wBB, '\\nBatas atas :', wBA)"
      ],
      "metadata": {
        "colab": {
          "base_uri": "https://localhost:8080/"
        },
        "id": "dbD06yMoaKKe",
        "outputId": "2e6b1295-108f-4422-ce14-acca2dd36c36"
      },
      "execution_count": 14,
      "outputs": [
        {
          "output_type": "stream",
          "name": "stdout",
          "text": [
            "Math \n",
            "Batas bawah : 24.5 \n",
            "Batas atas : 108.5\n",
            "Reading \n",
            "Batas bawah : 31.5 \n",
            "Batas atas : 107.5\n",
            "Writing \n",
            "Batas bawah : 26.5 \n",
            "Batas atas : 110.5\n"
          ]
        }
      ]
    },
    {
      "cell_type": "code",
      "source": [
        "#data outlier\n",
        "#math\n",
        "mathO = df2[(dfmath < mBB) | (dfmath > mBA)]\n",
        "print('Math data outlier : \\n', mathO)\n",
        "#reading\n",
        "readO = df2[(dfread < rBB) | (dfread > rBA)]\n",
        "print('Reading data outlier : \\n', readO)\n",
        "#writing\n",
        "writeO = df2[(dfwrite < wBB) | (dfwrite > wBA)]\n",
        "print('Writing data outlier : \\n', writeO)"
      ],
      "metadata": {
        "colab": {
          "base_uri": "https://localhost:8080/"
        },
        "id": "WUMoYIKsZ8x2",
        "outputId": "fa14491d-e941-4d2c-e6e2-a1a4462e71d3"
      },
      "execution_count": 15,
      "outputs": [
        {
          "output_type": "stream",
          "name": "stdout",
          "text": [
            "Math data outlier : \n",
            "      math score  reading score  writing score\n",
            "18           23             44             44\n",
            "392          13             29             23\n",
            "832          13             36             37\n",
            "Reading data outlier : \n",
            "      math score  reading score  writing score\n",
            "300          43             28             24\n",
            "392          13             29             23\n",
            "689          36             27             26\n",
            "885          37             28             23\n",
            "899          45             31             27\n",
            "976          31             29             35\n",
            "Writing data outlier : \n",
            "      math score  reading score  writing score\n",
            "300          43             28             24\n",
            "392          13             29             23\n",
            "689          36             27             26\n",
            "885          37             28             23\n"
          ]
        }
      ]
    },
    {
      "cell_type": "code",
      "source": [
        "#clean data\n",
        "#math\n",
        "mathClean = df2[(dfmath >= mBB) | (dfmath <= mBA)]\n",
        "print('Math data clean : \\n', mathClean)\n",
        "#reading\n",
        "readClean = df2[(dfread >= rBB) | (dfread <= rBA)]\n",
        "print('Reading data clean : \\n', readClean)\n",
        "#writing\n",
        "writeClean = df2[(dfwrite >= wBB) | (dfwrite <= wBA)]\n",
        "print('Writing data clean : \\n', writeClean)"
      ],
      "metadata": {
        "colab": {
          "base_uri": "https://localhost:8080/"
        },
        "id": "ueuTRKW0clZs",
        "outputId": "9d2661b3-aa52-4512-c628-9187ee2bb851"
      },
      "execution_count": 16,
      "outputs": [
        {
          "output_type": "stream",
          "name": "stdout",
          "text": [
            "Math data clean : \n",
            "      math score  reading score  writing score\n",
            "0            67             67             63\n",
            "1            40             59             55\n",
            "2            59             60             50\n",
            "3            77             78             68\n",
            "4            78             73             68\n",
            "..          ...            ...            ...\n",
            "995          73             70             65\n",
            "996          85             91             92\n",
            "997          32             35             41\n",
            "998          73             74             82\n",
            "999          65             60             62\n",
            "\n",
            "[1000 rows x 3 columns]\n",
            "Reading data clean : \n",
            "      math score  reading score  writing score\n",
            "0            67             67             63\n",
            "1            40             59             55\n",
            "2            59             60             50\n",
            "3            77             78             68\n",
            "4            78             73             68\n",
            "..          ...            ...            ...\n",
            "995          73             70             65\n",
            "996          85             91             92\n",
            "997          32             35             41\n",
            "998          73             74             82\n",
            "999          65             60             62\n",
            "\n",
            "[1000 rows x 3 columns]\n",
            "Writing data clean : \n",
            "      math score  reading score  writing score\n",
            "0            67             67             63\n",
            "1            40             59             55\n",
            "2            59             60             50\n",
            "3            77             78             68\n",
            "4            78             73             68\n",
            "..          ...            ...            ...\n",
            "995          73             70             65\n",
            "996          85             91             92\n",
            "997          32             35             41\n",
            "998          73             74             82\n",
            "999          65             60             62\n",
            "\n",
            "[1000 rows x 3 columns]\n"
          ]
        }
      ]
    },
    {
      "cell_type": "code",
      "source": [
        "###Normalisasi min max\n",
        "df3 = df2[['math score', 'reading score', 'writing score']]\n",
        "print(df3)"
      ],
      "metadata": {
        "colab": {
          "base_uri": "https://localhost:8080/"
        },
        "id": "mmjwaWX7dEH0",
        "outputId": "7b10d1db-8e5b-400b-ed33-78ee22be2903"
      },
      "execution_count": 17,
      "outputs": [
        {
          "output_type": "stream",
          "name": "stdout",
          "text": [
            "     math score  reading score  writing score\n",
            "0            67             67             63\n",
            "1            40             59             55\n",
            "2            59             60             50\n",
            "3            77             78             68\n",
            "4            78             73             68\n",
            "..          ...            ...            ...\n",
            "995          73             70             65\n",
            "996          85             91             92\n",
            "997          32             35             41\n",
            "998          73             74             82\n",
            "999          65             60             62\n",
            "\n",
            "[1000 rows x 3 columns]\n"
          ]
        }
      ]
    },
    {
      "cell_type": "code",
      "source": [
        "scaler = MinMaxScaler()\n",
        "scaler.fit(df3)\n",
        "dftrans = scaler.transform(df3)\n",
        "print(dftrans)\n",
        "##size data terlalu banyak sehingga yang ditampilkan hanya head dan tail saja"
      ],
      "metadata": {
        "colab": {
          "base_uri": "https://localhost:8080/"
        },
        "id": "8imuJoMWdbHX",
        "outputId": "fee829c8-02ed-4d5e-f9d4-995fc8e5eabb"
      },
      "execution_count": 18,
      "outputs": [
        {
          "output_type": "stream",
          "name": "stdout",
          "text": [
            "[[0.62068966 0.54794521 0.51948052]\n",
            " [0.31034483 0.43835616 0.41558442]\n",
            " [0.52873563 0.45205479 0.35064935]\n",
            " ...\n",
            " [0.2183908  0.10958904 0.23376623]\n",
            " [0.68965517 0.64383562 0.76623377]\n",
            " [0.59770115 0.45205479 0.50649351]]\n"
          ]
        }
      ]
    },
    {
      "cell_type": "code",
      "source": [
        "scalerstd = StandardScaler()\n",
        "scalerstd.fit(df3)\n",
        "dftrans2 = scalerstd.transform(df3)\n",
        "print(dftrans2)"
      ],
      "metadata": {
        "colab": {
          "base_uri": "https://localhost:8080/"
        },
        "id": "-LjGzVCTeB-w",
        "outputId": "4527e794-a188-41c0-a06c-c9a4438582bb"
      },
      "execution_count": 19,
      "outputs": [
        {
          "output_type": "stream",
          "name": "stdout",
          "text": [
            "[[ 0.03923309 -0.13591401 -0.30385073]\n",
            " [-1.714564   -0.67902695 -0.81689543]\n",
            " [-0.48041049 -0.61113783 -1.13754838]\n",
            " ...\n",
            " [-2.23420758 -2.30836575 -1.71472367]\n",
            " [ 0.42896578  0.33930981  0.91463045]\n",
            " [-0.0906778  -0.61113783 -0.36798132]]\n"
          ]
        }
      ]
    }
  ]
}